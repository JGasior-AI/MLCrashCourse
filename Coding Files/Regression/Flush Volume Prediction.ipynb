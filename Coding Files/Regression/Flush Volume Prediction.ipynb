{
 "cells": [
  {
   "cell_type": "markdown",
   "id": "d678acbd-976b-446e-8392-5de9cb7391d3",
   "metadata": {},
   "source": [
    "# Regression Example\n",
    "\n",
    "This example uses real data - our Flush Valve Curves - to estimate the flush volume depending on input variables. \n",
    "\n",
    "\n",
    "See below for a list of supervisedregression and classification algorythms available in SKLearn:\n",
    "https://scikit-learn.org/stable/supervised_learning.html\n"
   ]
  },
  {
   "cell_type": "markdown",
   "id": "761062d4-95bd-4964-b1e4-0bb5ba0a6172",
   "metadata": {},
   "source": [
    "## Importing Data\n",
    "\n",
    "I will be using the Pandas library to import a CSV of data.\n",
    "\n",
    "https://pandas.pydata.org/docs/user_guide/index.html#user-guide"
   ]
  },
  {
   "cell_type": "code",
   "execution_count": 1,
   "id": "3a96c9bb-5477-4a1c-8d9d-4fb66e94832b",
   "metadata": {},
   "outputs": [],
   "source": [
    "import pandas as pd"
   ]
  },
  {
   "cell_type": "code",
   "execution_count": 2,
   "id": "0fba0113-077a-4730-b0ec-eecf8ac53e2c",
   "metadata": {},
   "outputs": [
    {
     "data": {
      "text/html": [
       "<div>\n",
       "<style scoped>\n",
       "    .dataframe tbody tr th:only-of-type {\n",
       "        vertical-align: middle;\n",
       "    }\n",
       "\n",
       "    .dataframe tbody tr th {\n",
       "        vertical-align: top;\n",
       "    }\n",
       "\n",
       "    .dataframe thead th {\n",
       "        text-align: right;\n",
       "    }\n",
       "</style>\n",
       "<table border=\"1\" class=\"dataframe\">\n",
       "  <thead>\n",
       "    <tr style=\"text-align: right;\">\n",
       "      <th></th>\n",
       "      <th>Production Part number</th>\n",
       "      <th>Sample Number</th>\n",
       "      <th>Flush Valve Model Description</th>\n",
       "      <th>Comments</th>\n",
       "      <th>Configuration</th>\n",
       "      <th>Manual or Electronic</th>\n",
       "      <th>Bowl</th>\n",
       "      <th>Media Test</th>\n",
       "      <th>Test Request #</th>\n",
       "      <th>Test Tech/Eng</th>\n",
       "      <th>Actuatation Time</th>\n",
       "      <th>Targeted Volume</th>\n",
       "      <th>Static Pressure</th>\n",
       "      <th>Min Flowing Pressure</th>\n",
       "      <th>Peak Flow</th>\n",
       "      <th>Year</th>\n",
       "      <th>Month</th>\n",
       "      <th>Day</th>\n",
       "      <th>Measured Volume</th>\n",
       "    </tr>\n",
       "  </thead>\n",
       "  <tbody>\n",
       "    <tr>\n",
       "      <th>0</th>\n",
       "      <td>81T201BTA-DF</td>\n",
       "      <td>11A374</td>\n",
       "      <td>Gen 3 Dual Flush</td>\n",
       "      <td>dual flush modified solenoid open time, cap mo...</td>\n",
       "      <td>Water Closet</td>\n",
       "      <td>Electronic Battery</td>\n",
       "      <td>na</td>\n",
       "      <td>na</td>\n",
       "      <td>na</td>\n",
       "      <td>Dave Black</td>\n",
       "      <td>1.3</td>\n",
       "      <td>6.0</td>\n",
       "      <td>62.000000</td>\n",
       "      <td>0.000000</td>\n",
       "      <td>161.828771</td>\n",
       "      <td>2011</td>\n",
       "      <td>9</td>\n",
       "      <td>14</td>\n",
       "      <td>5.650558</td>\n",
       "    </tr>\n",
       "    <tr>\n",
       "      <th>1</th>\n",
       "      <td>81T201BTA-DF</td>\n",
       "      <td>11A374</td>\n",
       "      <td>Gen 3 Dual Flush</td>\n",
       "      <td>dual flush modified solenoid open time, cap mo...</td>\n",
       "      <td>Water Closet</td>\n",
       "      <td>Electronic Battery</td>\n",
       "      <td>NaN</td>\n",
       "      <td>NaN</td>\n",
       "      <td>NaN</td>\n",
       "      <td>Dave Black</td>\n",
       "      <td>1.3</td>\n",
       "      <td>6.0</td>\n",
       "      <td>102.000000</td>\n",
       "      <td>0.000000</td>\n",
       "      <td>211.480168</td>\n",
       "      <td>2011</td>\n",
       "      <td>9</td>\n",
       "      <td>14</td>\n",
       "      <td>6.205147</td>\n",
       "    </tr>\n",
       "    <tr>\n",
       "      <th>2</th>\n",
       "      <td>81T201</td>\n",
       "      <td>11A375</td>\n",
       "      <td>Manual</td>\n",
       "      <td>New Seat and Guide 2.0</td>\n",
       "      <td>Water Closet</td>\n",
       "      <td>Manual</td>\n",
       "      <td>NaN</td>\n",
       "      <td>NaN</td>\n",
       "      <td>11-FV-101</td>\n",
       "      <td>Dave Arnold</td>\n",
       "      <td>1.0</td>\n",
       "      <td>6.0</td>\n",
       "      <td>20.712871</td>\n",
       "      <td>8.729207</td>\n",
       "      <td>42.884744</td>\n",
       "      <td>2011</td>\n",
       "      <td>9</td>\n",
       "      <td>15</td>\n",
       "      <td>1.640575</td>\n",
       "    </tr>\n",
       "    <tr>\n",
       "      <th>3</th>\n",
       "      <td>81T201</td>\n",
       "      <td>11A375</td>\n",
       "      <td>Manual</td>\n",
       "      <td>New Seat and Guide 2.0</td>\n",
       "      <td>Water Closet</td>\n",
       "      <td>Manual</td>\n",
       "      <td>NaN</td>\n",
       "      <td>CSA Volume</td>\n",
       "      <td>11-FV-101</td>\n",
       "      <td>Dave Arnold</td>\n",
       "      <td>1.0</td>\n",
       "      <td>6.0</td>\n",
       "      <td>74.320538</td>\n",
       "      <td>68.226474</td>\n",
       "      <td>184.942928</td>\n",
       "      <td>2011</td>\n",
       "      <td>9</td>\n",
       "      <td>15</td>\n",
       "      <td>6.372773</td>\n",
       "    </tr>\n",
       "    <tr>\n",
       "      <th>4</th>\n",
       "      <td>81T201</td>\n",
       "      <td>11A375</td>\n",
       "      <td>Manual</td>\n",
       "      <td>New Seat and Guide 2.0</td>\n",
       "      <td>Water Closet</td>\n",
       "      <td>Manual</td>\n",
       "      <td>NaN</td>\n",
       "      <td>CSA Volume</td>\n",
       "      <td>11-FV-101</td>\n",
       "      <td>Dave Arnold</td>\n",
       "      <td>1.0</td>\n",
       "      <td>6.0</td>\n",
       "      <td>48.680907</td>\n",
       "      <td>43.937132</td>\n",
       "      <td>146.559734</td>\n",
       "      <td>2011</td>\n",
       "      <td>9</td>\n",
       "      <td>15</td>\n",
       "      <td>5.585587</td>\n",
       "    </tr>\n",
       "  </tbody>\n",
       "</table>\n",
       "</div>"
      ],
      "text/plain": [
       "  Production Part number Sample Number Flush Valve Model Description  \\\n",
       "0           81T201BTA-DF        11A374              Gen 3 Dual Flush   \n",
       "1           81T201BTA-DF        11A374              Gen 3 Dual Flush   \n",
       "2                 81T201        11A375                        Manual   \n",
       "3                 81T201        11A375                        Manual   \n",
       "4                 81T201        11A375                        Manual   \n",
       "\n",
       "                                            Comments Configuration  \\\n",
       "0  dual flush modified solenoid open time, cap mo...  Water Closet   \n",
       "1  dual flush modified solenoid open time, cap mo...  Water Closet   \n",
       "2                             New Seat and Guide 2.0  Water Closet   \n",
       "3                             New Seat and Guide 2.0  Water Closet   \n",
       "4                             New Seat and Guide 2.0  Water Closet   \n",
       "\n",
       "  Manual or Electronic Bowl  Media Test Test Request # Test Tech/Eng  \\\n",
       "0   Electronic Battery   na          na             na    Dave Black   \n",
       "1   Electronic Battery  NaN         NaN            NaN    Dave Black   \n",
       "2               Manual  NaN         NaN      11-FV-101   Dave Arnold   \n",
       "3               Manual  NaN  CSA Volume      11-FV-101   Dave Arnold   \n",
       "4               Manual  NaN  CSA Volume      11-FV-101   Dave Arnold   \n",
       "\n",
       "   Actuatation Time  Targeted Volume  Static Pressure  Min Flowing Pressure  \\\n",
       "0               1.3              6.0        62.000000              0.000000   \n",
       "1               1.3              6.0       102.000000              0.000000   \n",
       "2               1.0              6.0        20.712871              8.729207   \n",
       "3               1.0              6.0        74.320538             68.226474   \n",
       "4               1.0              6.0        48.680907             43.937132   \n",
       "\n",
       "    Peak Flow  Year  Month  Day  Measured Volume  \n",
       "0  161.828771  2011      9   14         5.650558  \n",
       "1  211.480168  2011      9   14         6.205147  \n",
       "2   42.884744  2011      9   15         1.640575  \n",
       "3  184.942928  2011      9   15         6.372773  \n",
       "4  146.559734  2011      9   15         5.585587  "
      ]
     },
     "execution_count": 2,
     "metadata": {},
     "output_type": "execute_result"
    }
   ],
   "source": [
    "df = pd.read_csv('Flush_Valve_Data.csv', sep=',')\n",
    "df.head()"
   ]
  },
  {
   "cell_type": "code",
   "execution_count": 3,
   "id": "5fe2f88e-dc38-4779-96de-16d3ea4b2637",
   "metadata": {},
   "outputs": [
    {
     "data": {
      "text/html": [
       "<div>\n",
       "<style scoped>\n",
       "    .dataframe tbody tr th:only-of-type {\n",
       "        vertical-align: middle;\n",
       "    }\n",
       "\n",
       "    .dataframe tbody tr th {\n",
       "        vertical-align: top;\n",
       "    }\n",
       "\n",
       "    .dataframe thead th {\n",
       "        text-align: right;\n",
       "    }\n",
       "</style>\n",
       "<table border=\"1\" class=\"dataframe\">\n",
       "  <thead>\n",
       "    <tr style=\"text-align: right;\">\n",
       "      <th></th>\n",
       "      <th>Actuatation Time</th>\n",
       "      <th>Targeted Volume</th>\n",
       "      <th>Static Pressure</th>\n",
       "      <th>Min Flowing Pressure</th>\n",
       "      <th>Peak Flow</th>\n",
       "      <th>Year</th>\n",
       "      <th>Month</th>\n",
       "      <th>Day</th>\n",
       "      <th>Measured Volume</th>\n",
       "    </tr>\n",
       "  </thead>\n",
       "  <tbody>\n",
       "    <tr>\n",
       "      <th>count</th>\n",
       "      <td>21609.000000</td>\n",
       "      <td>21806.000000</td>\n",
       "      <td>22041.000000</td>\n",
       "      <td>22041.000000</td>\n",
       "      <td>22041.000000</td>\n",
       "      <td>22041.000000</td>\n",
       "      <td>22041.000000</td>\n",
       "      <td>22041.000000</td>\n",
       "      <td>22041.000000</td>\n",
       "    </tr>\n",
       "    <tr>\n",
       "      <th>mean</th>\n",
       "      <td>1.275907</td>\n",
       "      <td>3.669976</td>\n",
       "      <td>44.494560</td>\n",
       "      <td>32.967393</td>\n",
       "      <td>74.628715</td>\n",
       "      <td>2016.208475</td>\n",
       "      <td>6.395762</td>\n",
       "      <td>15.201715</td>\n",
       "      <td>3.847905</td>\n",
       "    </tr>\n",
       "    <tr>\n",
       "      <th>std</th>\n",
       "      <td>5.304660</td>\n",
       "      <td>2.207855</td>\n",
       "      <td>25.906442</td>\n",
       "      <td>22.855349</td>\n",
       "      <td>48.314187</td>\n",
       "      <td>3.832869</td>\n",
       "      <td>3.503283</td>\n",
       "      <td>8.401941</td>\n",
       "      <td>4.332493</td>\n",
       "    </tr>\n",
       "    <tr>\n",
       "      <th>min</th>\n",
       "      <td>0.000000</td>\n",
       "      <td>0.500000</td>\n",
       "      <td>-37.495968</td>\n",
       "      <td>-37.517506</td>\n",
       "      <td>-0.045876</td>\n",
       "      <td>1900.000000</td>\n",
       "      <td>1.000000</td>\n",
       "      <td>1.000000</td>\n",
       "      <td>0.000000</td>\n",
       "    </tr>\n",
       "    <tr>\n",
       "      <th>25%</th>\n",
       "      <td>0.800000</td>\n",
       "      <td>1.900000</td>\n",
       "      <td>26.385417</td>\n",
       "      <td>22.883183</td>\n",
       "      <td>27.880441</td>\n",
       "      <td>2014.000000</td>\n",
       "      <td>3.000000</td>\n",
       "      <td>9.000000</td>\n",
       "      <td>1.480016</td>\n",
       "    </tr>\n",
       "    <tr>\n",
       "      <th>50%</th>\n",
       "      <td>1.000000</td>\n",
       "      <td>4.200000</td>\n",
       "      <td>35.052551</td>\n",
       "      <td>24.924241</td>\n",
       "      <td>92.970124</td>\n",
       "      <td>2015.000000</td>\n",
       "      <td>6.000000</td>\n",
       "      <td>14.000000</td>\n",
       "      <td>3.858506</td>\n",
       "    </tr>\n",
       "    <tr>\n",
       "      <th>75%</th>\n",
       "      <td>1.000000</td>\n",
       "      <td>4.800000</td>\n",
       "      <td>49.613563</td>\n",
       "      <td>33.490199</td>\n",
       "      <td>95.753198</td>\n",
       "      <td>2018.000000</td>\n",
       "      <td>10.000000</td>\n",
       "      <td>22.000000</td>\n",
       "      <td>4.884986</td>\n",
       "    </tr>\n",
       "    <tr>\n",
       "      <th>max</th>\n",
       "      <td>60.000000</td>\n",
       "      <td>13.200000</td>\n",
       "      <td>136.687074</td>\n",
       "      <td>131.160279</td>\n",
       "      <td>292.833006</td>\n",
       "      <td>2025.000000</td>\n",
       "      <td>12.000000</td>\n",
       "      <td>31.000000</td>\n",
       "      <td>176.614705</td>\n",
       "    </tr>\n",
       "  </tbody>\n",
       "</table>\n",
       "</div>"
      ],
      "text/plain": [
       "       Actuatation Time  Targeted Volume  Static Pressure  \\\n",
       "count      21609.000000     21806.000000     22041.000000   \n",
       "mean           1.275907         3.669976        44.494560   \n",
       "std            5.304660         2.207855        25.906442   \n",
       "min            0.000000         0.500000       -37.495968   \n",
       "25%            0.800000         1.900000        26.385417   \n",
       "50%            1.000000         4.200000        35.052551   \n",
       "75%            1.000000         4.800000        49.613563   \n",
       "max           60.000000        13.200000       136.687074   \n",
       "\n",
       "       Min Flowing Pressure     Peak Flow          Year         Month  \\\n",
       "count          22041.000000  22041.000000  22041.000000  22041.000000   \n",
       "mean              32.967393     74.628715   2016.208475      6.395762   \n",
       "std               22.855349     48.314187      3.832869      3.503283   \n",
       "min              -37.517506     -0.045876   1900.000000      1.000000   \n",
       "25%               22.883183     27.880441   2014.000000      3.000000   \n",
       "50%               24.924241     92.970124   2015.000000      6.000000   \n",
       "75%               33.490199     95.753198   2018.000000     10.000000   \n",
       "max              131.160279    292.833006   2025.000000     12.000000   \n",
       "\n",
       "                Day  Measured Volume  \n",
       "count  22041.000000     22041.000000  \n",
       "mean      15.201715         3.847905  \n",
       "std        8.401941         4.332493  \n",
       "min        1.000000         0.000000  \n",
       "25%        9.000000         1.480016  \n",
       "50%       14.000000         3.858506  \n",
       "75%       22.000000         4.884986  \n",
       "max       31.000000       176.614705  "
      ]
     },
     "execution_count": 3,
     "metadata": {},
     "output_type": "execute_result"
    }
   ],
   "source": [
    "df.describe()"
   ]
  },
  {
   "cell_type": "markdown",
   "id": "570b70e1-dd43-4a8e-9d97-a5cfd68a8cf2",
   "metadata": {},
   "source": [
    "## Data Manipulation\n",
    "\n",
    "There are a lot of features that are strings. Machine Learning and AI models need to do math on features so we need to convert these to numbers. We need to map strings to numerical equivalents. You can do this with a mapping dictionary or function if you have finite amount of differing strings. The easiest way to do this is to use an encoder.\n",
    "\n",
    "We will use SKLearn's OrdinalEncoder\n",
    "\n",
    "https://scikit-learn.org/stable/modules/generated/sklearn.preprocessing.OrdinalEncoder.html#sklearn.preprocessing.OrdinalEncoder\n",
    "\n",
    "\n",
    "This link goes into detail about other Encoder types, as well as feature binarization, discretization, and methods of imputing missing data in features.\n",
    "https://scikit-learn.org/stable/modules/preprocessing.html#preprocessing-categorical-features\n"
   ]
  },
  {
   "cell_type": "markdown",
   "id": "1d855c04-95cd-4aa4-928a-f2b96ba0ba69",
   "metadata": {},
   "source": [
    "## Preparing Data ##\n",
    "\n",
    "First, I want to split the matrix into 2 parts (X and y data tables). Then, I want to split the X data into 2 halves - one half that is made of features containing only numeric data and the other half that needs categorical/string values to be encoded to numeric. Then, I will recombine these halves back into an X array."
   ]
  },
  {
   "cell_type": "code",
   "execution_count": 6,
   "id": "73a8fe66-4f7f-48f3-a724-10356400ad1b",
   "metadata": {},
   "outputs": [
    {
     "data": {
      "text/plain": [
       "array([[5.650557668],\n",
       "       [6.205147172],\n",
       "       [1.640574983],\n",
       "       ...,\n",
       "       [4.775068659],\n",
       "       [4.285813776],\n",
       "       [4.266866912]], dtype=object)"
      ]
     },
     "execution_count": 6,
     "metadata": {},
     "output_type": "execute_result"
    }
   ],
   "source": [
    "import numpy as np\n",
    "\n",
    "raw_data =  df.to_numpy()\n",
    "\n",
    "#split data into X\n",
    "X_raw = raw_data[:,0:18]\n",
    "y = raw_data[:,[18]]\n",
    "y\n"
   ]
  },
  {
   "cell_type": "code",
   "execution_count": 7,
   "id": "e6102954-820d-409b-b45f-93652352f434",
   "metadata": {},
   "outputs": [],
   "source": [
    "X_str = X_raw[:,0:10]\n",
    "X_num = X_raw[:,10:18]"
   ]
  },
  {
   "cell_type": "code",
   "execution_count": 8,
   "id": "98845e74-7b48-4611-8116-cda7d14813c7",
   "metadata": {},
   "outputs": [
    {
     "data": {
      "text/plain": [
       "array([['81T201BTA-DF', '11A374', 'Gen 3 Dual Flush', ..., 'na', 'na',\n",
       "        'Dave Black'],\n",
       "       ['81T201BTA-DF', '11A374', 'Gen 3 Dual Flush', ..., nan, nan,\n",
       "        'Dave Black'],\n",
       "       ['81T201', '11A375', 'Manual', ..., nan, '11-FV-101',\n",
       "        'Dave Arnold'],\n",
       "       ...,\n",
       "       ['81T201-48', '25FV006-01', 'Manual', ...,\n",
       "        'Water Consumption Test', '25-FV-008', 'Riley Glew'],\n",
       "       ['81T201-48', '25FV006-02', 'Manual', ...,\n",
       "        'Water Consumption Test', '25-FV-008', 'Riley Glew'],\n",
       "       ['81T201-48', '25FV006-02', 'Manual', ...,\n",
       "        'Water Consumption Test', '25-FV-008', 'Riley Glew']],\n",
       "      dtype=object)"
      ]
     },
     "execution_count": 8,
     "metadata": {},
     "output_type": "execute_result"
    }
   ],
   "source": [
    "X_str"
   ]
  },
  {
   "cell_type": "code",
   "execution_count": 9,
   "id": "df77142c-c65b-4ce0-8f9e-befd5cb50fd8",
   "metadata": {},
   "outputs": [
    {
     "data": {
      "text/plain": [
       "array([[1.3, 6.0, 62.0, ..., 2011, 9, 14],\n",
       "       [1.3, 6.0, 102.0, ..., 2011, 9, 14],\n",
       "       [1.0, 6.0, 20.712871, ..., 2011, 9, 15],\n",
       "       ...,\n",
       "       [1.0, 4.8, 79.970145, ..., 2025, 1, 29],\n",
       "       [1.0, 4.8, 35.137007, ..., 2025, 1, 29],\n",
       "       [1.0, 4.8, 80.0338, ..., 2025, 1, 29]], dtype=object)"
      ]
     },
     "execution_count": 9,
     "metadata": {},
     "output_type": "execute_result"
    }
   ],
   "source": [
    "X_num"
   ]
  },
  {
   "cell_type": "markdown",
   "id": "296f79c0-4034-47d6-8a80-48c318bbcd1f",
   "metadata": {},
   "source": [
    "### Time to Encode ###"
   ]
  },
  {
   "cell_type": "code",
   "execution_count": 11,
   "id": "a19d4ae5-8623-4585-80f7-31bd7ee650f2",
   "metadata": {},
   "outputs": [
    {
     "data": {
      "text/plain": [
       "array([[ 90.,  18., 129., ..., 136., 800.,  15.],\n",
       "       [ 90.,  18., 129., ...,  nan,  nan,  15.],\n",
       "       [ 62.,  19., 150., ...,  nan,   3.,  14.],\n",
       "       ...,\n",
       "       [ 68., 879., 150., ..., 127., 797.,  29.],\n",
       "       [ 68., 880., 150., ..., 127., 797.,  29.],\n",
       "       [ 68., 880., 150., ..., 127., 797.,  29.]])"
      ]
     },
     "execution_count": 11,
     "metadata": {},
     "output_type": "execute_result"
    }
   ],
   "source": [
    "from sklearn.preprocessing import OrdinalEncoder\n",
    "\n",
    "enc = OrdinalEncoder(handle_unknown='use_encoded_value', unknown_value=-1) #sets enc as an object that contains all the funtions in Ordinal Encoder library\n",
    "enc.fit(X_str) #applies the data we want encoded to the encoder\n",
    "\n",
    "enc.transform(X_str)"
   ]
  },
  {
   "cell_type": "code",
   "execution_count": 12,
   "id": "582113ae-4a31-4eda-913e-5f1c8e74684f",
   "metadata": {},
   "outputs": [
    {
     "data": {
      "text/plain": [
       "array([[ 90.,  18., 129., ..., 136., 800.,  15.],\n",
       "       [ 90.,  18., 129., ...,  -1.,  -1.,  15.],\n",
       "       [ 62.,  19., 150., ...,  -1.,   3.,  14.],\n",
       "       ...,\n",
       "       [ 68., 879., 150., ..., 127., 797.,  29.],\n",
       "       [ 68., 880., 150., ..., 127., 797.,  29.],\n",
       "       [ 68., 880., 150., ..., 127., 797.,  29.]])"
      ]
     },
     "execution_count": 12,
     "metadata": {},
     "output_type": "execute_result"
    }
   ],
   "source": [
    "#let's replace the NaNs with a value (or choose to remove the lines contains NaN altogether)\n",
    "X_str_trans = enc.set_params(encoded_missing_value=-1).fit_transform(X_str)\n",
    "X_str_trans"
   ]
  },
  {
   "cell_type": "code",
   "execution_count": 13,
   "id": "40994f91-44ba-4beb-a2b8-0e94144e5cfe",
   "metadata": {},
   "outputs": [
    {
     "data": {
      "text/plain": [
       "array([[90.0, 18.0, 129.0, ..., 2011, 9, 14],\n",
       "       [90.0, 18.0, 129.0, ..., 2011, 9, 14],\n",
       "       [62.0, 19.0, 150.0, ..., 2011, 9, 15],\n",
       "       ...,\n",
       "       [68.0, 879.0, 150.0, ..., 2025, 1, 29],\n",
       "       [68.0, 880.0, 150.0, ..., 2025, 1, 29],\n",
       "       [68.0, 880.0, 150.0, ..., 2025, 1, 29]], dtype=object)"
      ]
     },
     "execution_count": 13,
     "metadata": {},
     "output_type": "execute_result"
    }
   ],
   "source": [
    "X = np.hstack((X_str_trans, X_num))\n",
    "X"
   ]
  },
  {
   "cell_type": "code",
   "execution_count": 14,
   "id": "cec92694-e546-4e5c-9164-1b1388877dad",
   "metadata": {},
   "outputs": [
    {
     "data": {
      "text/plain": [
       "array([[5.650557668],\n",
       "       [6.205147172],\n",
       "       [1.640574983],\n",
       "       ...,\n",
       "       [4.775068659],\n",
       "       [4.285813776],\n",
       "       [4.266866912]], dtype=object)"
      ]
     },
     "execution_count": 14,
     "metadata": {},
     "output_type": "execute_result"
    }
   ],
   "source": [
    "y"
   ]
  },
  {
   "cell_type": "markdown",
   "id": "59bbc3ed-d92a-4c4f-99ac-b83ee9097ba6",
   "metadata": {},
   "source": [
    "## Training a Model"
   ]
  },
  {
   "cell_type": "code",
   "execution_count": 23,
   "id": "1c1f30f8-3735-40b5-852c-96c3b56482fb",
   "metadata": {},
   "outputs": [],
   "source": [
    "from sklearn import tree\n",
    "model = tree.DecisionTreeRegressor(random_state=90, max_depth=10) \n",
    "model = model.fit(X, y)"
   ]
  },
  {
   "cell_type": "code",
   "execution_count": 24,
   "id": "f2f2f3c2-c74a-4da2-b407-08ff130d0067",
   "metadata": {},
   "outputs": [
    {
     "data": {
      "text/plain": [
       "84"
      ]
     },
     "execution_count": 24,
     "metadata": {},
     "output_type": "execute_result"
    }
   ],
   "source": [
    "# https://erhankilic.org/post/understanding-the-role-of-the-leaf-nodes-in-decision-trees/\n",
    "\n",
    "model.get_n_leaves()"
   ]
  },
  {
   "cell_type": "code",
   "execution_count": 25,
   "id": "1afeb09e-facd-4016-994e-6a898008c071",
   "metadata": {},
   "outputs": [
    {
     "data": {
      "text/plain": [
       "10"
      ]
     },
     "execution_count": 25,
     "metadata": {},
     "output_type": "execute_result"
    }
   ],
   "source": [
    "model.get_depth()"
   ]
  },
  {
   "cell_type": "code",
   "execution_count": 26,
   "id": "9b85016d-2e7f-47ed-b7ee-d594818069df",
   "metadata": {},
   "outputs": [
    {
     "data": {
      "text/plain": [
       "0.5954279476396225"
      ]
     },
     "execution_count": 26,
     "metadata": {},
     "output_type": "execute_result"
    }
   ],
   "source": [
    "model.score(X,y)"
   ]
  },
  {
   "cell_type": "code",
   "execution_count": 27,
   "id": "518e22d5-4bbe-49b4-9394-01187c69d002",
   "metadata": {},
   "outputs": [
    {
     "data": {
      "text/plain": [
       "[Text(0.3104482323232323, 0.9545454545454546, 'x[11] <= 3.4\\nsquared_error = 18.77\\nsamples = 22041\\nvalue = 3.848'),\n",
       " Text(0.04040404040404041, 0.8636363636363636, 'x[11] <= 0.85\\nsquared_error = 1.844\\nsamples = 8376\\nvalue = 1.256'),\n",
       " Text(0.020202020202020204, 0.7727272727272727, 'x[16] <= 11.5\\nsquared_error = 0.927\\nsamples = 4056\\nvalue = 0.578'),\n",
       " Text(0.010101010101010102, 0.6818181818181818, 'squared_error = 0.727\\nsamples = 3880\\nvalue = 0.546'),\n",
       " Text(0.030303030303030304, 0.6818181818181818, 'x[7] <= 15.0\\nsquared_error = 6.288\\nsamples = 176\\nvalue = 1.288'),\n",
       " Text(0.020202020202020204, 0.5909090909090909, 'squared_error = 10.973\\nsamples = 39\\nvalue = 3.982'),\n",
       " Text(0.04040404040404041, 0.5909090909090909, 'x[2] <= 129.5\\nsquared_error = 0.013\\nsamples = 137\\nvalue = 0.521'),\n",
       " Text(0.030303030303030304, 0.5, 'x[3] <= 104.0\\nsquared_error = 0.118\\nsamples = 61\\nvalue = 0.44'),\n",
       " Text(0.020202020202020204, 0.4090909090909091, 'squared_error = -8.169\\nsamples = 5\\nvalue = 0.383'),\n",
       " Text(0.04040404040404041, 0.4090909090909091, 'squared_error = -0.341\\nsamples = 56\\nvalue = 0.445'),\n",
       " Text(0.050505050505050504, 0.5, 'squared_error = -0.15\\nsamples = 76\\nvalue = 0.586'),\n",
       " Text(0.06060606060606061, 0.7727272727272727, 'x[14] <= 76.765\\nsquared_error = 1.868\\nsamples = 4320\\nvalue = 1.893'),\n",
       " Text(0.050505050505050504, 0.6818181818181818, 'squared_error = 1.306\\nsamples = 4264\\nvalue = 1.839'),\n",
       " Text(0.0707070707070707, 0.6818181818181818, 'squared_error = nan\\nsamples = 56\\nvalue = 6.002'),\n",
       " Text(0.5804924242424242, 0.8636363636363636, 'x[11] <= 11.5\\nsquared_error = 22.504\\nsamples = 13665\\nvalue = 5.436'),\n",
       " Text(0.3958333333333333, 0.7727272727272727, 'x[11] <= 4.87\\nsquared_error = 18.248\\nsamples = 13214\\nvalue = 5.281'),\n",
       " Text(0.24494949494949494, 0.6818181818181818, 'x[16] <= 11.5\\nsquared_error = 15.67\\nsamples = 8530\\nvalue = 4.814'),\n",
       " Text(0.23484848484848486, 0.5909090909090909, 'squared_error = 8.627\\nsamples = 8000\\nvalue = 4.653'),\n",
       " Text(0.255050505050505, 0.5909090909090909, 'x[7] <= 0.0\\nsquared_error = 165.786\\nsamples = 530\\nvalue = 7.235'),\n",
       " Text(0.12878787878787878, 0.5, 'x[3] <= 2958.0\\nsquared_error = 269.673\\nsamples = 140\\nvalue = 14.489'),\n",
       " Text(0.06060606060606061, 0.4090909090909091, 'x[3] <= 2935.5\\nsquared_error = 425.857\\nsamples = 31\\nvalue = 30.05'),\n",
       " Text(0.050505050505050504, 0.3181818181818182, 'squared_error = 56.168\\nsamples = 16\\nvalue = 12.186'),\n",
       " Text(0.0707070707070707, 0.3181818181818182, 'x[13] <= 27.902\\nsquared_error = 208.935\\nsamples = 15\\nvalue = 49.105'),\n",
       " Text(0.06060606060606061, 0.22727272727272727, 'squared_error = -71.86\\nsamples = 14\\nvalue = 49.698'),\n",
       " Text(0.08080808080808081, 0.22727272727272727, 'squared_error = nan\\nsamples = 1\\nvalue = 40.806'),\n",
       " Text(0.19696969696969696, 0.4090909090909091, 'x[14] <= 119.885\\nsquared_error = 136.798\\nsamples = 109\\nvalue = 10.063'),\n",
       " Text(0.1414141414141414, 0.3181818181818182, 'x[13] <= 17.579\\nsquared_error = 74.731\\nsamples = 97\\nvalue = 7.985'),\n",
       " Text(0.10101010101010101, 0.22727272727272727, 'x[0] <= 58.0\\nsquared_error = 190.171\\nsamples = 11\\nvalue = 24.756'),\n",
       " Text(0.08080808080808081, 0.13636363636363635, 'x[14] <= 96.333\\nsquared_error = 120.023\\nsamples = 8\\nvalue = 32.264'),\n",
       " Text(0.0707070707070707, 0.045454545454545456, 'squared_error = -97.71\\nsamples = 7\\nvalue = 31.884'),\n",
       " Text(0.09090909090909091, 0.045454545454545456, 'squared_error = nan\\nsamples = 1\\nvalue = 34.924'),\n",
       " Text(0.12121212121212122, 0.13636363636363635, 'x[13] <= -37.514\\nsquared_error = 12.105\\nsamples = 3\\nvalue = 4.734'),\n",
       " Text(0.1111111111111111, 0.045454545454545456, 'squared_error = -5.948\\nsamples = 2\\nvalue = 4.969'),\n",
       " Text(0.13131313131313133, 0.045454545454545456, 'squared_error = nan\\nsamples = 1\\nvalue = 4.265'),\n",
       " Text(0.18181818181818182, 0.22727272727272727, 'x[13] <= 22.504\\nsquared_error = 20.36\\nsamples = 86\\nvalue = 5.84'),\n",
       " Text(0.16161616161616163, 0.13636363636363635, 'x[14] <= 97.578\\nsquared_error = 69.191\\nsamples = 14\\nvalue = 10.785'),\n",
       " Text(0.15151515151515152, 0.045454545454545456, 'squared_error = -30.53\\nsamples = 11\\nvalue = 6.89'),\n",
       " Text(0.1717171717171717, 0.045454545454545456, 'squared_error = 505.474\\nsamples = 3\\nvalue = 25.068'),\n",
       " Text(0.20202020202020202, 0.13636363636363635, 'x[12] <= 24.695\\nsquared_error = 5.185\\nsamples = 72\\nvalue = 4.878'),\n",
       " Text(0.1919191919191919, 0.045454545454545456, 'squared_error = 0.0\\nsamples = 1\\nvalue = 15.692'),\n",
       " Text(0.21212121212121213, 0.045454545454545456, 'squared_error = 3.588\\nsamples = 71\\nvalue = 4.726'),\n",
       " Text(0.25252525252525254, 0.3181818181818182, 'x[13] <= 28.542\\nsquared_error = 295.327\\nsamples = 12\\nvalue = 26.865'),\n",
       " Text(0.23232323232323232, 0.22727272727272727, 'x[13] <= 26.357\\nsquared_error = 172.244\\nsamples = 7\\nvalue = 41.419'),\n",
       " Text(0.2222222222222222, 0.13636363636363635, 'squared_error = -167.81\\nsamples = 6\\nvalue = 42.125'),\n",
       " Text(0.24242424242424243, 0.13636363636363635, 'squared_error = nan\\nsamples = 1\\nvalue = 37.184'),\n",
       " Text(0.2727272727272727, 0.22727272727272727, 'x[0] <= 58.0\\nsquared_error = 5.276\\nsamples = 5\\nvalue = 6.488'),\n",
       " Text(0.26262626262626265, 0.13636363636363635, 'squared_error = -3.042\\nsamples = 4\\nvalue = 6.977'),\n",
       " Text(0.2828282828282828, 0.13636363636363635, 'squared_error = nan\\nsamples = 1\\nvalue = 4.533'),\n",
       " Text(0.3813131313131313, 0.5, 'x[17] <= 29.5\\nsquared_error = 9.297\\nsamples = 390\\nvalue = 4.63'),\n",
       " Text(0.3383838383838384, 0.4090909090909091, 'x[3] <= 3193.0\\nsquared_error = 2.522\\nsamples = 370\\nvalue = 4.353'),\n",
       " Text(0.31313131313131315, 0.3181818181818182, 'x[12] <= 15.495\\nsquared_error = 3.325\\nsamples = 256\\nvalue = 4.635'),\n",
       " Text(0.30303030303030304, 0.22727272727272727, 'squared_error = 0.0\\nsamples = 1\\nvalue = 18.561'),\n",
       " Text(0.32323232323232326, 0.22727272727272727, 'x[5] <= 2.5\\nsquared_error = 2.625\\nsamples = 255\\nvalue = 4.581'),\n",
       " Text(0.30303030303030304, 0.13636363636363635, 'x[14] <= 100.845\\nsquared_error = 70.587\\nsamples = 4\\nvalue = 9.973'),\n",
       " Text(0.29292929292929293, 0.045454545454545456, 'squared_error = 0.0\\nsamples = 1\\nvalue = 24.383'),\n",
       " Text(0.31313131313131315, 0.045454545454545456, 'squared_error = 1.834\\nsamples = 3\\nvalue = 5.17'),\n",
       " Text(0.3434343434343434, 0.13636363636363635, 'x[13] <= 19.358\\nsquared_error = 1.071\\nsamples = 251\\nvalue = 4.495'),\n",
       " Text(0.3333333333333333, 0.045454545454545456, 'squared_error = 0.398\\nsamples = 13\\nvalue = 3.125'),\n",
       " Text(0.35353535353535354, 0.045454545454545456, 'squared_error = 0.999\\nsamples = 238\\nvalue = 4.57'),\n",
       " Text(0.36363636363636365, 0.3181818181818182, 'x[13] <= 7.447\\nsquared_error = 0.351\\nsamples = 114\\nvalue = 3.719'),\n",
       " Text(0.35353535353535354, 0.22727272727272727, 'squared_error = 0.0\\nsamples = 1\\nvalue = 0.0'),\n",
       " Text(0.37373737373737376, 0.22727272727272727, 'x[14] <= 108.422\\nsquared_error = 0.129\\nsamples = 113\\nvalue = 3.752'),\n",
       " Text(0.36363636363636365, 0.13636363636363635, 'squared_error = -0.016\\nsamples = 112\\nvalue = 3.749'),\n",
       " Text(0.3838383838383838, 0.13636363636363635, 'squared_error = nan\\nsamples = 1\\nvalue = 4.06'),\n",
       " Text(0.42424242424242425, 0.4090909090909091, 'x[12] <= 34.846\\nsquared_error = 111.019\\nsamples = 20\\nvalue = 9.762'),\n",
       " Text(0.40404040404040403, 0.3181818181818182, 'x[3] <= 61.5\\nsquared_error = 237.399\\nsamples = 6\\nvalue = 18.392'),\n",
       " Text(0.3939393939393939, 0.22727272727272727, 'squared_error = -111.947\\nsamples = 4\\nvalue = 8.419'),\n",
       " Text(0.41414141414141414, 0.22727272727272727, 'x[3] <= 62.5\\nsquared_error = 1561.423\\nsamples = 2\\nvalue = 38.337'),\n",
       " Text(0.40404040404040403, 0.13636363636363635, 'squared_error = -4075.918\\nsamples = 1\\nvalue = 39.515'),\n",
       " Text(0.42424242424242425, 0.13636363636363635, 'squared_error = 1378.337\\nsamples = 1\\nvalue = 37.16'),\n",
       " Text(0.4444444444444444, 0.3181818181818182, 'x[14] <= 156.644\\nsquared_error = 3.505\\nsamples = 14\\nvalue = 6.064'),\n",
       " Text(0.43434343434343436, 0.22727272727272727, 'squared_error = -3.903\\nsamples = 10\\nvalue = 4.998'),\n",
       " Text(0.45454545454545453, 0.22727272727272727, 'x[13] <= 100.844\\nsquared_error = 17.452\\nsamples = 4\\nvalue = 8.728'),\n",
       " Text(0.4444444444444444, 0.13636363636363635, 'squared_error = -14.612\\nsamples = 3\\nvalue = 8.956'),\n",
       " Text(0.46464646464646464, 0.13636363636363635, 'squared_error = nan\\nsamples = 1\\nvalue = 8.047'),\n",
       " Text(0.5467171717171717, 0.6818181818181818, 'x[2] <= 100.0\\nsquared_error = 21.82\\nsamples = 4684\\nvalue = 6.133'),\n",
       " Text(0.48484848484848486, 0.5909090909090909, 'x[9] <= 11.5\\nsquared_error = 75.298\\nsamples = 876\\nvalue = 7.972'),\n",
       " Text(0.46464646464646464, 0.5, 'x[17] <= 27.5\\nsquared_error = 192.793\\nsamples = 266\\nvalue = 11.893'),\n",
       " Text(0.45454545454545453, 0.4090909090909091, 'squared_error = 68.526\\nsamples = 251\\nvalue = 10.094'),\n",
       " Text(0.47474747474747475, 0.4090909090909091, 'x[14] <= 96.159\\nsquared_error = 2282.948\\nsamples = 15\\nvalue = 42.0'),\n",
       " Text(0.46464646464646464, 0.3181818181818182, 'squared_error = -453.996\\nsamples = 9\\nvalue = 33.442'),\n",
       " Text(0.48484848484848486, 0.3181818181818182, 'x[8] <= 301.0\\nsquared_error = nan\\nsamples = 6\\nvalue = 54.836'),\n",
       " Text(0.47474747474747475, 0.22727272727272727, 'squared_error = nan\\nsamples = 2\\nvalue = 85.112'),\n",
       " Text(0.494949494949495, 0.22727272727272727, 'squared_error = 1274.662\\nsamples = 4\\nvalue = 39.698'),\n",
       " Text(0.5050505050505051, 0.5, 'x[14] <= 248.511\\nsquared_error = 14.438\\nsamples = 610\\nvalue = 6.263'),\n",
       " Text(0.494949494949495, 0.4090909090909091, 'squared_error = 2.899\\nsamples = 596\\nvalue = 6.008'),\n",
       " Text(0.5151515151515151, 0.4090909090909091, 'x[1] <= 119.0\\nsquared_error = 3471.892\\nsamples = 14\\nvalue = 17.114'),\n",
       " Text(0.5050505050505051, 0.3181818181818182, 'squared_error = -6675.471\\nsamples = 2\\nvalue = 12.748'),\n",
       " Text(0.5252525252525253, 0.3181818181818182, 'x[0] <= 153.5\\nsquared_error = 542.991\\nsamples = 12\\nvalue = 17.841'),\n",
       " Text(0.5151515151515151, 0.22727272727272727, 'squared_error = nan\\nsamples = 2\\nvalue = 40.099'),\n",
       " Text(0.5353535353535354, 0.22727272727272727, 'squared_error = 111.403\\nsamples = 10\\nvalue = 13.39'),\n",
       " Text(0.6085858585858586, 0.5909090909090909, 'x[14] <= 99.911\\nsquared_error = 8.56\\nsamples = 3808\\nvalue = 5.71'),\n",
       " Text(0.5984848484848485, 0.5, 'squared_error = 3.651\\nsamples = 2778\\nvalue = 5.3'),\n",
       " Text(0.6186868686868687, 0.5, 'x[14] <= 229.186\\nsquared_error = 21.508\\nsamples = 1030\\nvalue = 6.815'),\n",
       " Text(0.6085858585858586, 0.4090909090909091, 'squared_error = 12.158\\nsamples = 952\\nvalue = 6.563'),\n",
       " Text(0.6287878787878788, 0.4090909090909091, 'x[13] <= 84.273\\nsquared_error = 72.021\\nsamples = 78\\nvalue = 9.881'),\n",
       " Text(0.5757575757575758, 0.3181818181818182, 'x[1] <= 487.0\\nsquared_error = 240.295\\nsamples = 5\\nvalue = 29.278'),\n",
       " Text(0.5555555555555556, 0.22727272727272727, 'x[13] <= 64.549\\nsquared_error = 16.99\\nsamples = 2\\nvalue = 10.797'),\n",
       " Text(0.5454545454545454, 0.13636363636363635, 'squared_error = 207.962\\nsamples = 1\\nvalue = 14.919'),\n",
       " Text(0.5656565656565656, 0.13636363636363635, 'squared_error = -271.3\\nsamples = 1\\nvalue = 6.675'),\n",
       " Text(0.5959595959595959, 0.22727272727272727, 'x[1] <= 679.5\\nsquared_error = 9.644\\nsamples = 3\\nvalue = 41.599'),\n",
       " Text(0.5858585858585859, 0.13636363636363635, 'squared_error = -640.768\\nsamples = 2\\nvalue = 40.312'),\n",
       " Text(0.6060606060606061, 0.13636363636363635, 'squared_error = nan\\nsamples = 1\\nvalue = 44.173'),\n",
       " Text(0.6818181818181818, 0.3181818181818182, 'x[13] <= 94.98\\nsquared_error = 11.761\\nsamples = 73\\nvalue = 8.553'),\n",
       " Text(0.6464646464646465, 0.22727272727272727, 'x[13] <= 85.927\\nsquared_error = 28.623\\nsamples = 8\\nvalue = 15.518'),\n",
       " Text(0.6262626262626263, 0.13636363636363635, 'x[9] <= 4.0\\nsquared_error = 2.805\\nsamples = 2\\nvalue = 7.652'),\n",
       " Text(0.6161616161616161, 0.045454545454545456, 'squared_error = 29.64\\nsamples = 1\\nvalue = 5.977'),\n",
       " Text(0.6363636363636364, 0.045454545454545456, 'squared_error = -228.856\\nsamples = 1\\nvalue = 9.327'),\n",
       " Text(0.6666666666666666, 0.13636363636363635, 'x[16] <= 6.5\\nsquared_error = 9.731\\nsamples = 6\\nvalue = 18.14'),\n",
       " Text(0.6565656565656566, 0.045454545454545456, 'squared_error = 0.317\\nsamples = 2\\nvalue = 22.3'),\n",
       " Text(0.6767676767676768, 0.045454545454545456, 'squared_error = 1.459\\nsamples = 4\\nvalue = 16.06'),\n",
       " Text(0.7171717171717171, 0.22727272727272727, 'x[12] <= 125.606\\nsquared_error = 2.98\\nsamples = 65\\nvalue = 7.696'),\n",
       " Text(0.7070707070707071, 0.13636363636363635, 'x[17] <= 29.5\\nsquared_error = 1.288\\nsamples = 64\\nvalue = 7.652'),\n",
       " Text(0.696969696969697, 0.045454545454545456, 'squared_error = 2.464\\nsamples = 63\\nvalue = 7.689'),\n",
       " Text(0.7171717171717171, 0.045454545454545456, 'squared_error = nan\\nsamples = 1\\nvalue = 5.304'),\n",
       " Text(0.7272727272727273, 0.13636363636363635, 'squared_error = nan\\nsamples = 1\\nvalue = 10.488'),\n",
       " Text(0.7651515151515151, 0.7727272727272727, 'x[14] <= 22.513\\nsquared_error = 125.796\\nsamples = 451\\nvalue = 9.984'),\n",
       " Text(0.7070707070707071, 0.6818181818181818, 'x[0] <= 179.5\\nsquared_error = 0.659\\nsamples = 79\\nvalue = 1.341'),\n",
       " Text(0.696969696969697, 0.5909090909090909, 'squared_error = -0.191\\nsamples = 52\\nvalue = 1.33'),\n",
       " Text(0.7171717171717171, 0.5909090909090909, 'x[13] <= 16.18\\nsquared_error = 33.345\\nsamples = 27\\nvalue = 1.362'),\n",
       " Text(0.7070707070707071, 0.5, 'squared_error = 0.0\\nsamples = 2\\nvalue = 0.546'),\n",
       " Text(0.7272727272727273, 0.5, 'x[4] <= 0.5\\nsquared_error = 0.764\\nsamples = 25\\nvalue = 1.427'),\n",
       " Text(0.7171717171717171, 0.4090909090909091, 'squared_error = 0.044\\nsamples = 4\\nvalue = 0.716'),\n",
       " Text(0.7373737373737373, 0.4090909090909091, 'x[7] <= 7.0\\nsquared_error = 0.787\\nsamples = 21\\nvalue = 1.563'),\n",
       " Text(0.7272727272727273, 0.3181818181818182, 'squared_error = 0.189\\nsamples = 4\\nvalue = 1.876'),\n",
       " Text(0.7474747474747475, 0.3181818181818182, 'x[10] <= 1.875\\nsquared_error = 0.899\\nsamples = 17\\nvalue = 1.489'),\n",
       " Text(0.7373737373737373, 0.22727272727272727, 'squared_error = -1.79\\nsamples = 15\\nvalue = 1.547'),\n",
       " Text(0.7575757575757576, 0.22727272727272727, 'squared_error = 20.854\\nsamples = 2\\nvalue = 1.056'),\n",
       " Text(0.8232323232323232, 0.6818181818181818, 'x[12] <= 0.121\\nsquared_error = 133.136\\nsamples = 372\\nvalue = 11.82'),\n",
       " Text(0.8131313131313131, 0.5909090909090909, 'squared_error = 3314.773\\nsamples = 2\\nvalue = 119.041'),\n",
       " Text(0.8333333333333334, 0.5909090909090909, 'x[14] <= 25.046\\nsquared_error = 53.46\\nsamples = 370\\nvalue = 11.24'),\n",
       " Text(0.8232323232323232, 0.5, 'squared_error = 0.0\\nsamples = 1\\nvalue = 61.518'),\n",
       " Text(0.8434343434343434, 0.5, 'x[5] <= 4.5\\nsquared_error = 46.736\\nsamples = 369\\nvalue = 11.104'),\n",
       " Text(0.7777777777777778, 0.4090909090909091, 'x[13] <= 5.73\\nsquared_error = 84.68\\nsamples = 74\\nvalue = 6.44'),\n",
       " Text(0.7676767676767676, 0.3181818181818182, 'squared_error = 0.0\\nsamples = 1\\nvalue = 82.519'),\n",
       " Text(0.7878787878787878, 0.3181818181818182, 'x[0] <= 42.0\\nsquared_error = 5.467\\nsamples = 73\\nvalue = 5.398'),\n",
       " Text(0.7777777777777778, 0.22727272727272727, 'squared_error = -3.02\\nsamples = 32\\nvalue = 5.066'),\n",
       " Text(0.797979797979798, 0.22727272727272727, 'x[14] <= 57.892\\nsquared_error = 12.09\\nsamples = 41\\nvalue = 5.657'),\n",
       " Text(0.7777777777777778, 0.13636363636363635, 'x[14] <= 25.958\\nsquared_error = 3.64\\nsamples = 11\\nvalue = 2.897'),\n",
       " Text(0.7676767676767676, 0.045454545454545456, 'squared_error = 9.084\\nsamples = 3\\nvalue = 4.601'),\n",
       " Text(0.7878787878787878, 0.045454545454545456, 'squared_error = 0.101\\nsamples = 8\\nvalue = 2.258'),\n",
       " Text(0.8181818181818182, 0.13636363636363635, 'x[17] <= 16.0\\nsquared_error = 7.15\\nsamples = 30\\nvalue = 6.669'),\n",
       " Text(0.8080808080808081, 0.045454545454545456, 'squared_error = -10.43\\nsamples = 17\\nvalue = 6.601'),\n",
       " Text(0.8282828282828283, 0.045454545454545456, 'squared_error = 40.609\\nsamples = 13\\nvalue = 6.758'),\n",
       " Text(0.9090909090909091, 0.4090909090909091, 'x[9] <= 16.0\\nsquared_error = 30.393\\nsamples = 295\\nvalue = 12.274'),\n",
       " Text(0.8686868686868687, 0.3181818181818182, 'x[8] <= 394.0\\nsquared_error = 12.309\\nsamples = 264\\nvalue = 11.336'),\n",
       " Text(0.8484848484848485, 0.22727272727272727, 'x[9] <= 12.5\\nsquared_error = 13.219\\nsamples = 240\\nvalue = 12.003'),\n",
       " Text(0.8383838383838383, 0.13636363636363635, 'squared_error = -15.001\\nsamples = 177\\nvalue = 11.724'),\n",
       " Text(0.8585858585858586, 0.13636363636363635, 'x[13] <= 57.724\\nsquared_error = 158.855\\nsamples = 63\\nvalue = 12.789'),\n",
       " Text(0.8484848484848485, 0.045454545454545456, 'squared_error = 8.102\\nsamples = 51\\nvalue = 14.047'),\n",
       " Text(0.8686868686868687, 0.045454545454545456, 'squared_error = 195.947\\nsamples = 12\\nvalue = 7.44'),\n",
       " Text(0.8888888888888888, 0.22727272727272727, 'x[3] <= 2496.5\\nsquared_error = nan\\nsamples = 24\\nvalue = 4.663'),\n",
       " Text(0.8787878787878788, 0.13636363636363635, 'squared_error = -10.485\\nsamples = 13\\nvalue = 4.32'),\n",
       " Text(0.898989898989899, 0.13636363636363635, 'x[0] <= 142.5\\nsquared_error = 155.525\\nsamples = 11\\nvalue = 5.068'),\n",
       " Text(0.8888888888888888, 0.045454545454545456, 'squared_error = -1782.57\\nsamples = 2\\nvalue = 2.248'),\n",
       " Text(0.9090909090909091, 0.045454545454545456, 'squared_error = -206.059\\nsamples = 9\\nvalue = 5.694'),\n",
       " Text(0.9494949494949495, 0.3181818181818182, 'x[0] <= 147.5\\nsquared_error = 86.102\\nsamples = 31\\nvalue = 20.263'),\n",
       " Text(0.9292929292929293, 0.22727272727272727, 'x[14] <= 95.675\\nsquared_error = 12.286\\nsamples = 21\\nvalue = 24.691'),\n",
       " Text(0.9191919191919192, 0.13636363636363635, 'squared_error = -204.911\\nsamples = 14\\nvalue = 24.638'),\n",
       " Text(0.9393939393939394, 0.13636363636363635, 'x[3] <= 3007.5\\nsquared_error = nan\\nsamples = 7\\nvalue = 24.798'),\n",
       " Text(0.9292929292929293, 0.045454545454545456, 'squared_error = -91.56\\nsamples = 6\\nvalue = 24.704'),\n",
       " Text(0.9494949494949495, 0.045454545454545456, 'squared_error = nan\\nsamples = 1\\nvalue = 25.361'),\n",
       " Text(0.9696969696969697, 0.22727272727272727, 'x[13] <= 23.343\\nsquared_error = 705.737\\nsamples = 10\\nvalue = 10.965'),\n",
       " Text(0.9595959595959596, 0.13636363636363635, 'squared_error = 0.0\\nsamples = 1\\nvalue = 40.64'),\n",
       " Text(0.9797979797979798, 0.13636363636363635, 'x[1] <= 623.0\\nsquared_error = 44.879\\nsamples = 9\\nvalue = 7.668'),\n",
       " Text(0.9696969696969697, 0.045454545454545456, 'squared_error = 0.0\\nsamples = 1\\nvalue = 26.396'),\n",
       " Text(0.98989898989899, 0.045454545454545456, 'squared_error = 1.162\\nsamples = 8\\nvalue = 5.326')]"
      ]
     },
     "execution_count": 27,
     "metadata": {},
     "output_type": "execute_result"
    },
    {
     "data": {
      "image/png": "[encoded data removed]",
      "text/plain": [
       "<Figure size 432x288 with 1 Axes>"
      ]
     },
     "metadata": {
      "needs_background": "light"
     },
     "output_type": "display_data"
    }
   ],
   "source": [
    "tree.plot_tree(model)"
   ]
  },
  {
   "cell_type": "markdown",
   "id": "99378732-8940-454f-8553-c307be22528a",
   "metadata": {},
   "source": [
    "## Cross Validate\n",
    "\n",
    "This gives us a clearer idea if the model can provide stable predictions by looking at the range of accuracy scores.\n",
    "\n",
    "https://scikit-learn.org/stable/modules/cross_validation.html#cross-validation"
   ]
  },
  {
   "cell_type": "code",
   "execution_count": 28,
   "id": "85dd91ca-76e9-4179-8e91-3efd8ceb28bc",
   "metadata": {},
   "outputs": [
    {
     "data": {
      "text/plain": [
       "array([ 0.31670484, -0.52862537,  0.3476319 ,  0.05022339,  0.43534508,\n",
       "        0.11697763,  0.14372593,  0.38330626,  0.55718275,  0.22615069])"
      ]
     },
     "execution_count": 28,
     "metadata": {},
     "output_type": "execute_result"
    }
   ],
   "source": [
    "from sklearn.model_selection import cross_val_score\n",
    "scores = cross_val_score(model, X, y, cv=10)\n",
    "scores"
   ]
  },
  {
   "cell_type": "code",
   "execution_count": 29,
   "id": "f34d2246-681c-4e55-81ea-7e6de9f103c1",
   "metadata": {},
   "outputs": [
    {
     "name": "stdout",
     "output_type": "stream",
     "text": [
      "0.20 accuracy with a standard deviation of 0.29\n"
     ]
    }
   ],
   "source": [
    "print(\"%0.2f accuracy with a standard deviation of %0.2f\" % (scores.mean(), scores.std()))"
   ]
  },
  {
   "cell_type": "markdown",
   "id": "0ae20163-f131-4439-a3f5-ab9d59a9ac77",
   "metadata": {},
   "source": [
    "## Making Predictions ##\n",
    "\n"
   ]
  },
  {
   "cell_type": "code",
   "execution_count": 31,
   "id": "10678ded-6233-43bf-9f79-2c49b6cc9d88",
   "metadata": {},
   "outputs": [
    {
     "data": {
      "text/html": [
       "<div>\n",
       "<style scoped>\n",
       "    .dataframe tbody tr th:only-of-type {\n",
       "        vertical-align: middle;\n",
       "    }\n",
       "\n",
       "    .dataframe tbody tr th {\n",
       "        vertical-align: top;\n",
       "    }\n",
       "\n",
       "    .dataframe thead th {\n",
       "        text-align: right;\n",
       "    }\n",
       "</style>\n",
       "<table border=\"1\" class=\"dataframe\">\n",
       "  <thead>\n",
       "    <tr style=\"text-align: right;\">\n",
       "      <th></th>\n",
       "      <th>Production Part number</th>\n",
       "      <th>Sample Number</th>\n",
       "      <th>Flush Valve Model Description</th>\n",
       "      <th>Comments</th>\n",
       "      <th>Configuration</th>\n",
       "      <th>Manual or Electronic</th>\n",
       "      <th>Bowl</th>\n",
       "      <th>Media Test</th>\n",
       "      <th>Test Request #</th>\n",
       "      <th>Test Tech/Eng</th>\n",
       "      <th>Actuatation Time</th>\n",
       "      <th>Targeted Volume</th>\n",
       "      <th>Static Pressure</th>\n",
       "      <th>Min Flowing Pressure</th>\n",
       "      <th>Peak Flow</th>\n",
       "      <th>Year</th>\n",
       "      <th>Month</th>\n",
       "      <th>Day</th>\n",
       "    </tr>\n",
       "  </thead>\n",
       "  <tbody>\n",
       "    <tr>\n",
       "      <th>0</th>\n",
       "      <td>81T201</td>\n",
       "      <td>25A278</td>\n",
       "      <td>Manual</td>\n",
       "      <td>CSA Volume</td>\n",
       "      <td>Water Closet</td>\n",
       "      <td>Manual</td>\n",
       "      <td>NaN</td>\n",
       "      <td>Water Consumption Test</td>\n",
       "      <td>NaN</td>\n",
       "      <td>Riley Glew</td>\n",
       "      <td>1</td>\n",
       "      <td>4.8</td>\n",
       "      <td>34</td>\n",
       "      <td>22</td>\n",
       "      <td>96</td>\n",
       "      <td>2025</td>\n",
       "      <td>2</td>\n",
       "      <td>7</td>\n",
       "    </tr>\n",
       "  </tbody>\n",
       "</table>\n",
       "</div>"
      ],
      "text/plain": [
       "  Production Part number Sample Number Flush Valve Model Description  \\\n",
       "0                 81T201        25A278                        Manual   \n",
       "\n",
       "     Comments Configuration Manual or Electronic  Bowl  \\\n",
       "0  CSA Volume  Water Closet               Manual   NaN   \n",
       "\n",
       "               Media Test  Test Request # Test Tech/Eng  Actuatation Time  \\\n",
       "0  Water Consumption Test             NaN    Riley Glew                 1   \n",
       "\n",
       "   Targeted Volume  Static Pressure  Min Flowing Pressure  Peak Flow  Year  \\\n",
       "0              4.8               34                    22         96  2025   \n",
       "\n",
       "   Month  Day  \n",
       "0      2    7  "
      ]
     },
     "execution_count": 31,
     "metadata": {},
     "output_type": "execute_result"
    }
   ],
   "source": [
    "df = pd.read_csv('Predictions.csv', sep=',')\n",
    "df.head()"
   ]
  },
  {
   "cell_type": "code",
   "execution_count": 32,
   "id": "80420ee6-82fb-492d-8c85-dc63d755828e",
   "metadata": {},
   "outputs": [],
   "source": [
    "pred_raw_data =  df.to_numpy()\n",
    "X_pred_str = pred_raw_data[:,0:10]\n",
    "X_pred_num = pred_raw_data[:,10:18]"
   ]
  },
  {
   "cell_type": "code",
   "execution_count": 33,
   "id": "814515d5-c734-4c3f-be9e-6767567a2ba3",
   "metadata": {},
   "outputs": [
    {
     "data": {
      "text/plain": [
       "array([['81T201', '25A278', 'Manual', 'CSA Volume', 'Water Closet',\n",
       "        'Manual', nan, 'Water Consumption Test', nan, 'Riley Glew']],\n",
       "      dtype=object)"
      ]
     },
     "execution_count": 33,
     "metadata": {},
     "output_type": "execute_result"
    }
   ],
   "source": [
    "X_pred_str"
   ]
  },
  {
   "cell_type": "code",
   "execution_count": 34,
   "id": "0fbfe45f-7b7c-40e4-833e-b5dca323592f",
   "metadata": {},
   "outputs": [],
   "source": [
    "X_pred_str_trans = enc.transform(X_pred_str)"
   ]
  },
  {
   "cell_type": "code",
   "execution_count": 35,
   "id": "4080e7e8-e513-4d27-9055-ae69ecafe082",
   "metadata": {},
   "outputs": [
    {
     "data": {
      "text/plain": [
       "array([[ 62.,  -1., 150.,  -1.,  20.,   7.,  -1., 127.,  -1.,  29.]])"
      ]
     },
     "execution_count": 35,
     "metadata": {},
     "output_type": "execute_result"
    }
   ],
   "source": [
    "X_pred_str_trans"
   ]
  },
  {
   "cell_type": "code",
   "execution_count": 36,
   "id": "a8f874d7-b3b6-4cbc-80f3-5936b1bcb5c2",
   "metadata": {},
   "outputs": [
    {
     "data": {
      "text/plain": [
       "array([[62.0, -1.0, 150.0, -1.0, 20.0, 7.0, -1.0, 127.0, -1.0, 29.0, 1,\n",
       "        4.8, 34, 22, 96, 2025, 2, 7]], dtype=object)"
      ]
     },
     "execution_count": 36,
     "metadata": {},
     "output_type": "execute_result"
    }
   ],
   "source": [
    "X_pred = np.hstack((X_pred_str_trans, X_pred_num))\n",
    "X_pred"
   ]
  },
  {
   "cell_type": "code",
   "execution_count": 37,
   "id": "7c206308-bf84-40d8-8719-1801c59dc14c",
   "metadata": {},
   "outputs": [
    {
     "data": {
      "text/plain": [
       "array([4.65321909])"
      ]
     },
     "execution_count": 37,
     "metadata": {},
     "output_type": "execute_result"
    }
   ],
   "source": [
    "model.predict(X_pred)"
   ]
  },
  {
   "cell_type": "code",
   "execution_count": 38,
   "id": "e962244f-c124-4890-a673-8a297c6b0928",
   "metadata": {},
   "outputs": [],
   "source": [
    "import pickle\n",
    "\n",
    "with open('model.pkl','wb') as f:\n",
    "    pickle.dump(model,f)"
   ]
  },
  {
   "cell_type": "code",
   "execution_count": null,
   "id": "1d9c26fb-6d69-42dd-aced-1af1be8a23af",
   "metadata": {},
   "outputs": [],
   "source": []
  }
 ],
 "metadata": {
  "kernelspec": {
   "display_name": "Python 3",
   "language": "python",
   "name": "python3"
  },
  "language_info": {
   "codemirror_mode": {
    "name": "ipython",
    "version": 3
   },
   "file_extension": ".py",
   "mimetype": "text/x-python",
   "name": "python",
   "nbconvert_exporter": "python",
   "pygments_lexer": "ipython3",
   "version": "3.8.7"
  }
 },
 "nbformat": 4,
 "nbformat_minor": 5
}
